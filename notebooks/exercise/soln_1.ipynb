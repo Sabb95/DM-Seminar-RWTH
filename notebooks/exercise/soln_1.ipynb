{
 "cells": [
  {
   "cell_type": "code",
   "execution_count": 1,
   "id": "f98b086e",
   "metadata": {
    "ExecuteTime": {
     "end_time": "2022-01-04T21:52:37.386543Z",
     "start_time": "2022-01-04T21:52:37.364190Z"
    }
   },
   "outputs": [],
   "source": [
    "import numpy as np\n",
    "from classy import Class"
   ]
  },
  {
   "cell_type": "markdown",
   "id": "863bdab2",
   "metadata": {
    "ExecuteTime": {
     "end_time": "2021-12-26T18:57:33.000821Z",
     "start_time": "2021-12-26T18:57:32.995388Z"
    }
   },
   "source": [
    "# Background Cosmology "
   ]
  },
  {
   "cell_type": "code",
   "execution_count": 2,
   "id": "38725dee",
   "metadata": {
    "ExecuteTime": {
     "end_time": "2022-01-04T21:52:38.172960Z",
     "start_time": "2022-01-04T21:52:38.121614Z"
    },
    "code_folding": []
   },
   "outputs": [],
   "source": [
    "#Lambda CDM with default standard values\n",
    "lcdm = Class()\n",
    "lcdm.compute()\n",
    "bg = lcdm.get_background()"
   ]
  },
  {
   "cell_type": "markdown",
   "id": "da68feb3",
   "metadata": {},
   "source": [
    "## 1.1 Density parameters"
   ]
  },
  {
   "cell_type": "code",
   "execution_count": 3,
   "id": "3f62845a",
   "metadata": {
    "ExecuteTime": {
     "end_time": "2022-01-04T21:52:39.113541Z",
     "start_time": "2022-01-04T21:52:39.102464Z"
    }
   },
   "outputs": [
    {
     "data": {
      "text/plain": [
       "1.0"
      ]
     },
     "execution_count": 3,
     "metadata": {},
     "output_type": "execute_result"
    }
   ],
   "source": [
    "lcdm.Omega_m() + lcdm.Omega_r() + lcdm.Omega_Lambda()"
   ]
  },
  {
   "cell_type": "markdown",
   "id": "4e703631",
   "metadata": {},
   "source": [
    "## 1.2. Age and Size of the universe"
   ]
  },
  {
   "cell_type": "code",
   "execution_count": 4,
   "id": "a00a9cd0",
   "metadata": {
    "ExecuteTime": {
     "end_time": "2022-01-04T21:52:40.629354Z",
     "start_time": "2022-01-04T21:52:40.625023Z"
    }
   },
   "outputs": [
    {
     "data": {
      "text/plain": [
       "13.770597733785923"
      ]
     },
     "execution_count": 4,
     "metadata": {},
     "output_type": "execute_result"
    }
   ],
   "source": [
    "lcdm.age() # Gyr"
   ]
  },
  {
   "cell_type": "code",
   "execution_count": 9,
   "id": "4d15952d",
   "metadata": {
    "ExecuteTime": {
     "end_time": "2022-01-04T21:53:32.383249Z",
     "start_time": "2022-01-04T21:53:32.379850Z"
    }
   },
   "outputs": [],
   "source": [
    "z_rec = lcdm.get_current_derived_parameters(['z_rec'])['z_rec']"
   ]
  },
  {
   "cell_type": "code",
   "execution_count": 10,
   "id": "9265cf77",
   "metadata": {
    "ExecuteTime": {
     "end_time": "2022-01-04T21:53:33.067518Z",
     "start_time": "2022-01-04T21:53:33.054915Z"
    }
   },
   "outputs": [
    {
     "data": {
      "text/plain": [
       "13871.24798238993"
      ]
     },
     "execution_count": 10,
     "metadata": {},
     "output_type": "execute_result"
    }
   ],
   "source": [
    "lcdm.comoving_distance(z_rec) # Mpc"
   ]
  },
  {
   "cell_type": "markdown",
   "id": "d25d54a2",
   "metadata": {},
   "source": [
    "## 1.3. Age of the universe at Photon decoupling"
   ]
  },
  {
   "cell_type": "code",
   "execution_count": 11,
   "id": "9052b045",
   "metadata": {
    "ExecuteTime": {
     "end_time": "2022-01-04T21:54:21.468724Z",
     "start_time": "2022-01-04T21:54:21.306374Z"
    }
   },
   "outputs": [
    {
     "data": {
      "text/plain": [
       "array(0.00037746)"
      ]
     },
     "execution_count": 11,
     "metadata": {},
     "output_type": "execute_result"
    }
   ],
   "source": [
    "from scipy.interpolate import interp1d\n",
    "z_To_time = interp1d(bg['z'], bg['proper time [Gyr]'])  # Gyr\n",
    "z_To_time((1080)) #Gyr"
   ]
  }
 ],
 "metadata": {
  "kernelspec": {
   "display_name": "Python 3 (ipykernel)",
   "language": "python",
   "name": "python3"
  },
  "language_info": {
   "codemirror_mode": {
    "name": "ipython",
    "version": 3
   },
   "file_extension": ".py",
   "mimetype": "text/x-python",
   "name": "python",
   "nbconvert_exporter": "python",
   "pygments_lexer": "ipython3",
   "version": "3.9.7"
  },
  "toc": {
   "base_numbering": 1,
   "nav_menu": {},
   "number_sections": false,
   "sideBar": true,
   "skip_h1_title": false,
   "title_cell": "Table of Contents",
   "title_sidebar": "Contents",
   "toc_cell": false,
   "toc_position": {},
   "toc_section_display": true,
   "toc_window_display": false
  },
  "varInspector": {
   "cols": {
    "lenName": 16,
    "lenType": 16,
    "lenVar": 40
   },
   "kernels_config": {
    "python": {
     "delete_cmd_postfix": "",
     "delete_cmd_prefix": "del ",
     "library": "var_list.py",
     "varRefreshCmd": "print(var_dic_list())"
    },
    "r": {
     "delete_cmd_postfix": ") ",
     "delete_cmd_prefix": "rm(",
     "library": "var_list.r",
     "varRefreshCmd": "cat(var_dic_list()) "
    }
   },
   "types_to_exclude": [
    "module",
    "function",
    "builtin_function_or_method",
    "instance",
    "_Feature"
   ],
   "window_display": false
  }
 },
 "nbformat": 4,
 "nbformat_minor": 5
}
